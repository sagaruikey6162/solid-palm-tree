{
 "cells": [
  {
   "cell_type": "markdown",
   "id": "85a5ddd7",
   "metadata": {},
   "source": [
    "## 1. In the below elements which of them are values or an expression? eg:- values can be integer or string and expressions will be mathematical operators."
   ]
  },
  {
   "cell_type": "markdown",
   "id": "b7daa390",
   "metadata": {},
   "source": [
    "'*' = mathematical operators 'multiplication'"
   ]
  },
  {
   "cell_type": "code",
   "execution_count": 6,
   "id": "0a96b890",
   "metadata": {},
   "outputs": [
    {
     "data": {
      "text/plain": [
       "str"
      ]
     },
     "execution_count": 6,
     "metadata": {},
     "output_type": "execute_result"
    }
   ],
   "source": [
    "type('hello world')"
   ]
  },
  {
   "cell_type": "code",
   "execution_count": 7,
   "id": "32007831",
   "metadata": {},
   "outputs": [
    {
     "data": {
      "text/plain": [
       "float"
      ]
     },
     "execution_count": 7,
     "metadata": {},
     "output_type": "execute_result"
    }
   ],
   "source": [
    "type(-87.8)"
   ]
  },
  {
   "cell_type": "markdown",
   "id": "82d95b5d",
   "metadata": {},
   "source": [
    "'-' = mathematical operators 'minus'"
   ]
  },
  {
   "cell_type": "markdown",
   "id": "dc7e332e",
   "metadata": {},
   "source": [
    "'/' =  mathematical operators 'subraction'"
   ]
  },
  {
   "cell_type": "markdown",
   "id": "171af06d",
   "metadata": {},
   "source": [
    "'+' =  mathematical operators 'addition'"
   ]
  },
  {
   "cell_type": "code",
   "execution_count": 8,
   "id": "1fb0a8c6",
   "metadata": {},
   "outputs": [
    {
     "data": {
      "text/plain": [
       "int"
      ]
     },
     "execution_count": 8,
     "metadata": {},
     "output_type": "execute_result"
    }
   ],
   "source": [
    "type(6)"
   ]
  },
  {
   "cell_type": "markdown",
   "id": "7780901d",
   "metadata": {},
   "source": [
    "### 2. What is the difference between string and variable?"
   ]
  },
  {
   "cell_type": "markdown",
   "id": "55835a5e",
   "metadata": {},
   "source": [
    "In most programming languages, a string is a data type that represents a sequence of characters. It is typically used to store and manipulate text. A string can contain letters, numbers, and special characters, and it can be as short as a single character or as long as several hundred or even thousands of characters.\n",
    "\n",
    "A variable, on the other hand, is a named location in a computer's memory where a value can be stored and retrieved. In most programming languages, variables have a specific type, such as an integer or a floating-point number, which determines the kind of data that can be stored in the variable and the operations that can be performed on it.\n",
    "\n",
    "One key difference between strings and variables is that strings are immutable, which means that once you create a string, you cannot change it. If you want to modify a string, you must create a new string with the modified value. Variables, on the other hand, can be reassigned new values at any time.\n",
    "\n",
    "For example, in the following code snippet, name is a string that contains the text \"John Smith\", and age is a variable of type integer that contains the value 35:\n",
    "\n"
   ]
  },
  {
   "cell_type": "code",
   "execution_count": 9,
   "id": "25b0d7f3",
   "metadata": {},
   "outputs": [],
   "source": [
    "name = \"John Smith\"\n",
    "age = 35\n"
   ]
  },
  {
   "cell_type": "markdown",
   "id": "d7637ee8",
   "metadata": {},
   "source": [
    "You can use the + operator to concatenate strings and variables, as shown in the following example:\n",
    "\n"
   ]
  },
  {
   "cell_type": "code",
   "execution_count": 10,
   "id": "f5a57fbd",
   "metadata": {},
   "outputs": [
    {
     "name": "stdout",
     "output_type": "stream",
     "text": [
      "Hello, my name is John Smith and I am 35 years old.\n"
     ]
    }
   ],
   "source": [
    "greeting = \"Hello, my name is \" + name + \" and I am \" + str(age) + \" years old.\"\n",
    "print(greeting)\n"
   ]
  },
  {
   "cell_type": "markdown",
   "id": "c28b181e",
   "metadata": {},
   "source": [
    "### 3. Describe three different data types."
   ]
  },
  {
   "cell_type": "markdown",
   "id": "e41ea799",
   "metadata": {},
   "source": [
    "***Integers*** :-  An integer is a whole number, either positive or negative, without a decimal point. In most programming languages, integers are stored as a series of binary digits and are used to represent whole numbers or countable quantities.\n",
    "        \n",
    "***Floating-point numbers*** :- A floating-point number is a number with a decimal point. It is used to represent decimal values or quantities that can vary over a wide range. Floating-point numbers are stored as a series of binary digits and are typically more precise than integers, but they can also be less efficient to work with.        \n",
    "\n",
    "***Strings*** :- A string is a data type that represents a sequence of characters. It is typically used to store and manipulate text, such as words, sentences, or entire documents. Strings can contain letters, numbers, and special characters, and they are often used to store and manipulate user input, display messages to the user, or store data in a file.\n",
    "\n"
   ]
  },
  {
   "cell_type": "markdown",
   "id": "134b734b",
   "metadata": {},
   "source": [
    "### 4. What is an expression made up of? What do all expressions do?"
   ]
  },
  {
   "cell_type": "markdown",
   "id": "695edccf",
   "metadata": {},
   "source": [
    "An expression is a combination of variables, literals, and operators that represents a single value or operation. Expressions are used to specify the computation or manipulation that should be performed by a program.\n",
    "\n",
    "Expressions are typically made up of the following elements:\n",
    "\n",
    "***Variables***: A variable is a named location in a computer's memory where a value can be stored and retrieved. Variables are used to store data that can change or be updated during the execution of a program.\n",
    "\n",
    "***Literals***: A literal is a fixed value that is written directly into the source code of a program. Literals can be of different types, such as integers, floating-point numbers, or strings, depending on the context in which they are used.\n",
    "\n",
    "***Operators***: An operator is a special symbol that represents a specific computation or operation. For example, the + operator is used to add two numbers together, while the * operator is used to multiply them. There are many different types of operators, including arithmetic operators, comparison operators, and logical operators.\n",
    "\n",
    "All expressions perform some kind of computation or manipulation, either on their own or as part of a larger program. They can be used to perform simple calculations, such as adding two numbers together, or more complex operations, such as evaluating a series of conditions or manipulating strings."
   ]
  },
  {
   "cell_type": "markdown",
   "id": "fff7d8a5",
   "metadata": {},
   "source": [
    "### 5. This assignment statements, like spam = 10. What is the difference between an expression and a statement?"
   ]
  },
  {
   "cell_type": "markdown",
   "id": "4882993c",
   "metadata": {},
   "source": [
    "* an expression is a combination of variables, literals, and operators that represents a single value or operation. Expressions are used to specify the computation or manipulation that should be performed by a program.\n",
    "\n",
    "* A statement, on the other hand, is a complete instruction that tells a program to do something. A statement can be a simple command, such as assigning a value to a variable, or a more complex operation, such as looping through a set of data or executing a block of code based on a condition.\n",
    "\n",
    "In the example you provided, `spam = 10`, the expression `10` represents the value that is being assigned to the variable spam, and the entire line `spam = 10` is a statement that tells the program to assign the value `10` to the variable spam."
   ]
  },
  {
   "cell_type": "markdown",
   "id": "5370379f",
   "metadata": {},
   "source": [
    "# Here are some other examples of statements:\n",
    "\n",
    "* print(\"Hello, world!\")\n",
    "* x = y + z\n",
    "* if x > 10:\n",
    "* for i in range(10):"
   ]
  },
  {
   "cell_type": "markdown",
   "id": "4bdc1d63",
   "metadata": {},
   "source": [
    "### 6. After running the following code, what does the variable bacon contain?"
   ]
  },
  {
   "cell_type": "code",
   "execution_count": 12,
   "id": "1c11335c",
   "metadata": {},
   "outputs": [
    {
     "data": {
      "text/plain": [
       "23"
      ]
     },
     "execution_count": 12,
     "metadata": {},
     "output_type": "execute_result"
    }
   ],
   "source": [
    "bacon = 22\n",
    "bacon + 1"
   ]
  },
  {
   "cell_type": "markdown",
   "id": "ba79377f",
   "metadata": {},
   "source": [
    "### 7. What should the values of the following two terms be?"
   ]
  },
  {
   "cell_type": "code",
   "execution_count": 14,
   "id": "4a658a17",
   "metadata": {},
   "outputs": [
    {
     "data": {
      "text/plain": [
       "'spamspamspam'"
      ]
     },
     "execution_count": 14,
     "metadata": {},
     "output_type": "execute_result"
    }
   ],
   "source": [
    "'spam' + 'spamspam'"
   ]
  },
  {
   "cell_type": "code",
   "execution_count": 15,
   "id": "4012e2bc",
   "metadata": {},
   "outputs": [
    {
     "data": {
      "text/plain": [
       "'spamspamspam'"
      ]
     },
     "execution_count": 15,
     "metadata": {},
     "output_type": "execute_result"
    }
   ],
   "source": [
    "'spam'*3"
   ]
  },
  {
   "cell_type": "markdown",
   "id": "06c3f476",
   "metadata": {},
   "source": [
    "### 8. Why is eggs a valid variable name while 100 is invalid?"
   ]
  },
  {
   "cell_type": "markdown",
   "id": "2a8301f1",
   "metadata": {},
   "source": [
    "In most programming languages, variables must be given a name that follows certain rules in order to be considered valid. These rules can vary slightly depending on the specific language you are using, but there are some general principles that apply to most languages.\n",
    "\n",
    "One common rule is that variable names must start with a letter or an underscore, and they can contain letters, digits, and underscores. This means that eggs is a valid variable name because it starts with a letter and only contains letters and underscores.\n",
    "\n",
    "On the other hand, 100 is not a valid variable name because it starts with a digit. Most programming languages do not allow variable names to start with a digit because it can cause confusion with numbers. For example, if you wrote the following code:"
   ]
  },
  {
   "cell_type": "code",
   "execution_count": 16,
   "id": "b514e8bc",
   "metadata": {},
   "outputs": [
    {
     "ename": "SyntaxError",
     "evalue": "cannot assign to literal here. Maybe you meant '==' instead of '='? (1611434983.py, line 1)",
     "output_type": "error",
     "traceback": [
      "\u001b[1;36m  Input \u001b[1;32mIn [16]\u001b[1;36m\u001b[0m\n\u001b[1;33m    100 = 10\u001b[0m\n\u001b[1;37m    ^\u001b[0m\n\u001b[1;31mSyntaxError\u001b[0m\u001b[1;31m:\u001b[0m cannot assign to literal here. Maybe you meant '==' instead of '='?\n"
     ]
    }
   ],
   "source": [
    "100 = 10\n"
   ]
  },
  {
   "cell_type": "markdown",
   "id": "f4511965",
   "metadata": {},
   "source": [
    "The interpreter interpreted this as an attempt to assign the value 10 to the number 100, rather than as an attempt to define a new variable called 100.\n",
    "\n",
    "To avoid this kind of confusion, it is generally a good idea to choose variable names that start with a letter and only contain letters, digits, and underscores."
   ]
  },
  {
   "cell_type": "markdown",
   "id": "f7270a83",
   "metadata": {},
   "source": [
    "### 9. What three functions can be used to get the integer, floating-point number, or string version of a value?"
   ]
  },
  {
   "cell_type": "markdown",
   "id": "d499a3e1",
   "metadata": {},
   "source": [
    "In Python, you can use the following three functions to get the integer, floating-point number, or string version of a value:\n",
    "\n",
    "1. `int()`: This function converts a value to an integer. For example:"
   ]
  },
  {
   "cell_type": "code",
   "execution_count": 20,
   "id": "68028377",
   "metadata": {},
   "outputs": [],
   "source": [
    "x = int(10.5)  # x will be 10\n",
    "y = int(\"10\")  # y will be 10\n"
   ]
  },
  {
   "cell_type": "code",
   "execution_count": 21,
   "id": "51b453b7",
   "metadata": {},
   "outputs": [
    {
     "data": {
      "text/plain": [
       "10"
      ]
     },
     "execution_count": 21,
     "metadata": {},
     "output_type": "execute_result"
    }
   ],
   "source": [
    "x"
   ]
  },
  {
   "cell_type": "code",
   "execution_count": 22,
   "id": "3f861eda",
   "metadata": {},
   "outputs": [
    {
     "data": {
      "text/plain": [
       "10"
      ]
     },
     "execution_count": 22,
     "metadata": {},
     "output_type": "execute_result"
    }
   ],
   "source": [
    "y"
   ]
  },
  {
   "cell_type": "markdown",
   "id": "92a12559",
   "metadata": {},
   "source": [
    "2. `float()`: This function converts a value to a floating-point number. For example:"
   ]
  },
  {
   "cell_type": "code",
   "execution_count": 23,
   "id": "46089e03",
   "metadata": {},
   "outputs": [],
   "source": [
    "x = float(10)  # x will be 10.0\n",
    "y = float(\"10.5\")  # y will be 10.5\n"
   ]
  },
  {
   "cell_type": "code",
   "execution_count": 24,
   "id": "d904dfa7",
   "metadata": {},
   "outputs": [
    {
     "data": {
      "text/plain": [
       "10.0"
      ]
     },
     "execution_count": 24,
     "metadata": {},
     "output_type": "execute_result"
    }
   ],
   "source": [
    "x"
   ]
  },
  {
   "cell_type": "code",
   "execution_count": 25,
   "id": "6408e48e",
   "metadata": {},
   "outputs": [
    {
     "data": {
      "text/plain": [
       "10.5"
      ]
     },
     "execution_count": 25,
     "metadata": {},
     "output_type": "execute_result"
    }
   ],
   "source": [
    "y"
   ]
  },
  {
   "cell_type": "markdown",
   "id": "caedfb0b",
   "metadata": {},
   "source": [
    "3. `str()`: This function converts a value to a string. For example:\n"
   ]
  },
  {
   "cell_type": "code",
   "execution_count": 26,
   "id": "440154e9",
   "metadata": {},
   "outputs": [],
   "source": [
    "x = str(10)  # x will be \"10\"\n",
    "y = str(10.5)  # y will be \"10.5\"\n"
   ]
  },
  {
   "cell_type": "code",
   "execution_count": 27,
   "id": "35d21da1",
   "metadata": {},
   "outputs": [
    {
     "data": {
      "text/plain": [
       "'10'"
      ]
     },
     "execution_count": 27,
     "metadata": {},
     "output_type": "execute_result"
    }
   ],
   "source": [
    "x"
   ]
  },
  {
   "cell_type": "code",
   "execution_count": 28,
   "id": "7ea4fc5a",
   "metadata": {},
   "outputs": [
    {
     "data": {
      "text/plain": [
       "'10.5'"
      ]
     },
     "execution_count": 28,
     "metadata": {},
     "output_type": "execute_result"
    }
   ],
   "source": [
    "y"
   ]
  },
  {
   "cell_type": "markdown",
   "id": "f11e78b5",
   "metadata": {},
   "source": [
    "### 10. Why does this expression cause an error? How can you fix it? `I have eaten`  + 99 +  `burritos`"
   ]
  },
  {
   "cell_type": "markdown",
   "id": "da5c8f0d",
   "metadata": {},
   "source": [
    "This expression causes an error because the `+` operator can only be used to concatenate strings when at least one of the operands is a string. In this expression, 99 is an integer, so the + operator tries to perform integer addition instead of string concatenation.\n",
    "\n",
    "To fix this error, you can either convert `99` to a string using the `str()` function, or you can use the `,` operator to concatenate the strings and the integer.\n",
    "\n",
    "\n",
    "For example, you can fix the expression like this:\n",
    "\n"
   ]
  },
  {
   "cell_type": "code",
   "execution_count": 31,
   "id": "187048d0",
   "metadata": {},
   "outputs": [
    {
     "data": {
      "text/plain": [
       "'I have eaten99burritos'"
      ]
     },
     "execution_count": 31,
     "metadata": {},
     "output_type": "execute_result"
    }
   ],
   "source": [
    "\"I have eaten\" + str(99) + \"burritos\"\n"
   ]
  },
  {
   "cell_type": "markdown",
   "id": "321f02e3",
   "metadata": {},
   "source": [
    "or like this :"
   ]
  },
  {
   "cell_type": "code",
   "execution_count": 32,
   "id": "b4e3f801",
   "metadata": {},
   "outputs": [
    {
     "data": {
      "text/plain": [
       "('I have eaten', 99, 'burritos')"
      ]
     },
     "execution_count": 32,
     "metadata": {},
     "output_type": "execute_result"
    }
   ],
   "source": [
    "\"I have eaten\", 99, \"burritos\"\n"
   ]
  },
  {
   "cell_type": "markdown",
   "id": "bee8e5eb",
   "metadata": {},
   "source": [
    "The second version will create a 'tuple', so if we want to print the result, we will have to use the `print()` function and pass the tuple as an argument."
   ]
  },
  {
   "cell_type": "code",
   "execution_count": null,
   "id": "ec5ae7db",
   "metadata": {},
   "outputs": [],
   "source": []
  }
 ],
 "metadata": {
  "kernelspec": {
   "display_name": "Python 3 (ipykernel)",
   "language": "python",
   "name": "python3"
  },
  "language_info": {
   "codemirror_mode": {
    "name": "ipython",
    "version": 3
   },
   "file_extension": ".py",
   "mimetype": "text/x-python",
   "name": "python",
   "nbconvert_exporter": "python",
   "pygments_lexer": "ipython3",
   "version": "3.10.4"
  }
 },
 "nbformat": 4,
 "nbformat_minor": 5
}
